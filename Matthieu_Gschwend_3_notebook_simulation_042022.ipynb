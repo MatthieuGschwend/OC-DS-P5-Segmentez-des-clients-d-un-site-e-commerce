{
 "cells": [
  {
   "cell_type": "markdown",
   "id": "8f1c692f",
   "metadata": {},
   "source": [
    "# Simulation de l'algorithme de maintenance"
   ]
  },
  {
   "cell_type": "markdown",
   "id": "9df3d136",
   "metadata": {},
   "source": [
    "Nous avons à ce stade décidé de la méthode de clustering que nous allons utiliser : le Kmeans.\n",
    "\n",
    "Mais la **problématique** est alors la suivante :  \n",
    "    - **A quelle fréquence faut-il actualiser le clustering pour que ceui-ci reste pertinent ?**\n",
    "    \n",
    "   \n",
    "Au fil du temps la qualité du clustering va logiquement se dégrader."
   ]
  },
  {
   "cell_type": "markdown",
   "id": "27654bae",
   "metadata": {},
   "source": [
    "## Démarche : "
   ]
  },
  {
   "cell_type": "markdown",
   "id": "fc28db39",
   "metadata": {},
   "source": [
    "Nous allons partir des variables RFM, la démarche serait le même si nous avions le RFMRP mais le nombre de cluster est  plus élevé.\n",
    "\n",
    "Avant de commencer notre démarche doit être claire :  \n",
    "- Définir une date de départ proche du début du data set (avec assez de clients quand meme..)  \n",
    "- Définir une méthode qui va nous permettre de dire si la prédiction du clustering est où non de bonne qualité et définir un seuil en desous duquel le clustering n'est plus acceptable.  \n",
    "- Nous devrons trouver un pas de temps dt tel que le clustering reste convenable sur la période t + dt  "
   ]
  },
  {
   "cell_type": "markdown",
   "id": "28d2e239",
   "metadata": {},
   "source": [
    "## Définir une date de départ"
   ]
  },
  {
   "cell_type": "markdown",
   "id": "73bb5e6f",
   "metadata": {},
   "source": [
    "Au delà de définir une date de départ nous devons pourvoir créer un dateframe RFM actualisé à la date de la simulation.\n",
    "Effectivement pour les clients qui ont commandé plus d'une fois la valeur du montant total des dépenses va évoluée au cours du temps. \n",
    "Nous allons donc coder une fonction qui nous permet d'avoir un jeu de donnée en concordance avec une date donnée."
   ]
  },
  {
   "cell_type": "markdown",
   "id": "6eb6860c",
   "metadata": {},
   "source": [
    "### Lecture des données"
   ]
  },
  {
   "cell_type": "code",
   "execution_count": 1,
   "id": "8070de73",
   "metadata": {},
   "outputs": [],
   "source": [
    "import pandas as pd\n",
    "import matplotlib.pyplot as plt\n",
    "import numpy as np\n",
    "import seaborn as sns\n",
    "import warnings\n",
    "warnings.filterwarnings('ignore')\n",
    "\n",
    "from sklearn import decomposition\n",
    "from sklearn.cluster import KMeans\n",
    "import sklearn.cluster as cluster\n",
    "from sklearn.manifold import TSNE\n",
    "from sklearn.metrics import silhouette_score\n",
    "\n",
    "from sklearn.metrics.cluster import adjusted_mutual_info_score\n",
    "from sklearn.metrics.cluster import adjusted_rand_score\n",
    "from sklearn.metrics import davies_bouldin_score\n",
    "from sklearn.neighbors import NearestNeighbors\n",
    "\n",
    "from kmodes.kmodes import KModes\n",
    "from kmodes.kprototypes import KPrototypes\n",
    "\n",
    "from sklearn.preprocessing import StandardScaler\n",
    "from sklearn.preprocessing import RobustScaler\n",
    "from sklearn.preprocessing import LabelEncoder, OneHotEncoder\n",
    "\n",
    "from kneed import KneeLocator\n",
    "\n",
    "from yellowbrick.cluster import KElbowVisualizer\n",
    "from yellowbrick.cluster import SilhouetteVisualizer\n",
    "from yellowbrick.features.pcoords import parallel_coordinates\n",
    "import plotly.express as px\n",
    "import time\n",
    "from tqdm.auto import tqdm\n",
    "tqdm.pandas()"
   ]
  },
  {
   "cell_type": "code",
   "execution_count": 2,
   "id": "1fd847ba",
   "metadata": {},
   "outputs": [],
   "source": [
    "data_X = pd.read_csv(\"data_maj.csv\")\n",
    "data_X.drop(columns = 'Unnamed: 0', inplace = True)\n"
   ]
  },
  {
   "cell_type": "code",
   "execution_count": 3,
   "id": "461be4b7",
   "metadata": {},
   "outputs": [
    {
     "data": {
      "text/html": [
       "<div>\n",
       "<style scoped>\n",
       "    .dataframe tbody tr th:only-of-type {\n",
       "        vertical-align: middle;\n",
       "    }\n",
       "\n",
       "    .dataframe tbody tr th {\n",
       "        vertical-align: top;\n",
       "    }\n",
       "\n",
       "    .dataframe thead th {\n",
       "        text-align: right;\n",
       "    }\n",
       "</style>\n",
       "<table border=\"1\" class=\"dataframe\">\n",
       "  <thead>\n",
       "    <tr style=\"text-align: right;\">\n",
       "      <th></th>\n",
       "      <th>order_id</th>\n",
       "      <th>order_status</th>\n",
       "      <th>order_purchase_timestamp</th>\n",
       "      <th>order_item_id</th>\n",
       "      <th>seller_id</th>\n",
       "      <th>price</th>\n",
       "      <th>freight_value</th>\n",
       "      <th>seller_city</th>\n",
       "      <th>seller_state</th>\n",
       "      <th>seller_lat</th>\n",
       "      <th>...</th>\n",
       "      <th>customer_state</th>\n",
       "      <th>customer_lat</th>\n",
       "      <th>customer_lng</th>\n",
       "      <th>payment_sequential</th>\n",
       "      <th>payment_type</th>\n",
       "      <th>payment_installments</th>\n",
       "      <th>payment_value</th>\n",
       "      <th>review_score</th>\n",
       "      <th>product_category_name_english</th>\n",
       "      <th>catégori cluster</th>\n",
       "    </tr>\n",
       "  </thead>\n",
       "  <tbody>\n",
       "    <tr>\n",
       "      <th>0</th>\n",
       "      <td>e481f51cbdc54678b7cc49136f2d6af7</td>\n",
       "      <td>delivered</td>\n",
       "      <td>2017-10-02 10:56:33</td>\n",
       "      <td>1</td>\n",
       "      <td>3504c0cb71d7fa48d967e0e4c94d59d9</td>\n",
       "      <td>29.99</td>\n",
       "      <td>8.72</td>\n",
       "      <td>maua</td>\n",
       "      <td>SP</td>\n",
       "      <td>-23.675542</td>\n",
       "      <td>...</td>\n",
       "      <td>SP</td>\n",
       "      <td>-23.583452</td>\n",
       "      <td>-46.586284</td>\n",
       "      <td>2</td>\n",
       "      <td>voucher</td>\n",
       "      <td>1</td>\n",
       "      <td>18.59</td>\n",
       "      <td>4</td>\n",
       "      <td>géneral maison</td>\n",
       "      <td>maison / construction</td>\n",
       "    </tr>\n",
       "    <tr>\n",
       "      <th>1</th>\n",
       "      <td>128e10d95713541c87cd1a2e48201934</td>\n",
       "      <td>delivered</td>\n",
       "      <td>2017-08-15 18:29:31</td>\n",
       "      <td>1</td>\n",
       "      <td>3504c0cb71d7fa48d967e0e4c94d59d9</td>\n",
       "      <td>29.99</td>\n",
       "      <td>7.78</td>\n",
       "      <td>maua</td>\n",
       "      <td>SP</td>\n",
       "      <td>-23.675542</td>\n",
       "      <td>...</td>\n",
       "      <td>SP</td>\n",
       "      <td>-23.564977</td>\n",
       "      <td>-46.536043</td>\n",
       "      <td>1</td>\n",
       "      <td>credit_card</td>\n",
       "      <td>3</td>\n",
       "      <td>37.77</td>\n",
       "      <td>4</td>\n",
       "      <td>géneral maison</td>\n",
       "      <td>maison / construction</td>\n",
       "    </tr>\n",
       "    <tr>\n",
       "      <th>2</th>\n",
       "      <td>0e7e841ddf8f8f2de2bad69267ecfbcf</td>\n",
       "      <td>delivered</td>\n",
       "      <td>2017-08-02 18:24:47</td>\n",
       "      <td>1</td>\n",
       "      <td>3504c0cb71d7fa48d967e0e4c94d59d9</td>\n",
       "      <td>29.99</td>\n",
       "      <td>7.78</td>\n",
       "      <td>maua</td>\n",
       "      <td>SP</td>\n",
       "      <td>-23.675542</td>\n",
       "      <td>...</td>\n",
       "      <td>SP</td>\n",
       "      <td>-23.532175</td>\n",
       "      <td>-46.626106</td>\n",
       "      <td>1</td>\n",
       "      <td>credit_card</td>\n",
       "      <td>1</td>\n",
       "      <td>37.77</td>\n",
       "      <td>5</td>\n",
       "      <td>géneral maison</td>\n",
       "      <td>maison / construction</td>\n",
       "    </tr>\n",
       "    <tr>\n",
       "      <th>3</th>\n",
       "      <td>bfc39df4f36c3693ff3b63fcbea9e90a</td>\n",
       "      <td>delivered</td>\n",
       "      <td>2017-10-23 23:26:46</td>\n",
       "      <td>1</td>\n",
       "      <td>3504c0cb71d7fa48d967e0e4c94d59d9</td>\n",
       "      <td>29.99</td>\n",
       "      <td>14.10</td>\n",
       "      <td>maua</td>\n",
       "      <td>SP</td>\n",
       "      <td>-23.675542</td>\n",
       "      <td>...</td>\n",
       "      <td>SC</td>\n",
       "      <td>-27.553442</td>\n",
       "      <td>-48.500027</td>\n",
       "      <td>1</td>\n",
       "      <td>boleto</td>\n",
       "      <td>1</td>\n",
       "      <td>44.09</td>\n",
       "      <td>3</td>\n",
       "      <td>géneral maison</td>\n",
       "      <td>maison / construction</td>\n",
       "    </tr>\n",
       "    <tr>\n",
       "      <th>4</th>\n",
       "      <td>5f49f31e537f8f1a496454b48edbe34d</td>\n",
       "      <td>delivered</td>\n",
       "      <td>2017-08-24 11:31:28</td>\n",
       "      <td>2</td>\n",
       "      <td>3504c0cb71d7fa48d967e0e4c94d59d9</td>\n",
       "      <td>46.80</td>\n",
       "      <td>67.70</td>\n",
       "      <td>maua</td>\n",
       "      <td>SP</td>\n",
       "      <td>-23.675542</td>\n",
       "      <td>...</td>\n",
       "      <td>SP</td>\n",
       "      <td>-23.555460</td>\n",
       "      <td>-46.639994</td>\n",
       "      <td>1</td>\n",
       "      <td>credit_card</td>\n",
       "      <td>1</td>\n",
       "      <td>127.45</td>\n",
       "      <td>1</td>\n",
       "      <td>géneral maison</td>\n",
       "      <td>maison / construction</td>\n",
       "    </tr>\n",
       "    <tr>\n",
       "      <th>...</th>\n",
       "      <td>...</td>\n",
       "      <td>...</td>\n",
       "      <td>...</td>\n",
       "      <td>...</td>\n",
       "      <td>...</td>\n",
       "      <td>...</td>\n",
       "      <td>...</td>\n",
       "      <td>...</td>\n",
       "      <td>...</td>\n",
       "      <td>...</td>\n",
       "      <td>...</td>\n",
       "      <td>...</td>\n",
       "      <td>...</td>\n",
       "      <td>...</td>\n",
       "      <td>...</td>\n",
       "      <td>...</td>\n",
       "      <td>...</td>\n",
       "      <td>...</td>\n",
       "      <td>...</td>\n",
       "      <td>...</td>\n",
       "      <td>...</td>\n",
       "    </tr>\n",
       "    <tr>\n",
       "      <th>108989</th>\n",
       "      <td>872b07190c0c9c0f13475d2141c4036a</td>\n",
       "      <td>delivered</td>\n",
       "      <td>2018-07-03 10:10:12</td>\n",
       "      <td>2</td>\n",
       "      <td>7c5b05cbdb5542049f38d90d7815b97d</td>\n",
       "      <td>64.99</td>\n",
       "      <td>19.37</td>\n",
       "      <td>sao paulo</td>\n",
       "      <td>SP</td>\n",
       "      <td>-23.405387</td>\n",
       "      <td>...</td>\n",
       "      <td>PA</td>\n",
       "      <td>-1.463764</td>\n",
       "      <td>-48.488360</td>\n",
       "      <td>1</td>\n",
       "      <td>credit_card</td>\n",
       "      <td>1</td>\n",
       "      <td>168.72</td>\n",
       "      <td>5</td>\n",
       "      <td>livres</td>\n",
       "      <td>divertissement / business et autres</td>\n",
       "    </tr>\n",
       "    <tr>\n",
       "      <th>108990</th>\n",
       "      <td>522eec5aa38ae3153b1c1a94e013947e</td>\n",
       "      <td>delivered</td>\n",
       "      <td>2018-07-05 16:25:40</td>\n",
       "      <td>1</td>\n",
       "      <td>7c5b05cbdb5542049f38d90d7815b97d</td>\n",
       "      <td>44.99</td>\n",
       "      <td>18.42</td>\n",
       "      <td>sao paulo</td>\n",
       "      <td>SP</td>\n",
       "      <td>-23.405387</td>\n",
       "      <td>...</td>\n",
       "      <td>PR</td>\n",
       "      <td>-25.521533</td>\n",
       "      <td>-48.528872</td>\n",
       "      <td>1</td>\n",
       "      <td>boleto</td>\n",
       "      <td>1</td>\n",
       "      <td>63.41</td>\n",
       "      <td>1</td>\n",
       "      <td>livres</td>\n",
       "      <td>divertissement / business et autres</td>\n",
       "    </tr>\n",
       "    <tr>\n",
       "      <th>108991</th>\n",
       "      <td>1dbff949801376b8795a093d31cfe205</td>\n",
       "      <td>delivered</td>\n",
       "      <td>2018-05-16 14:50:54</td>\n",
       "      <td>1</td>\n",
       "      <td>7c5b05cbdb5542049f38d90d7815b97d</td>\n",
       "      <td>58.99</td>\n",
       "      <td>7.39</td>\n",
       "      <td>sao paulo</td>\n",
       "      <td>SP</td>\n",
       "      <td>-23.405387</td>\n",
       "      <td>...</td>\n",
       "      <td>SP</td>\n",
       "      <td>-23.721535</td>\n",
       "      <td>-46.390913</td>\n",
       "      <td>1</td>\n",
       "      <td>credit_card</td>\n",
       "      <td>1</td>\n",
       "      <td>66.38</td>\n",
       "      <td>5</td>\n",
       "      <td>livres</td>\n",
       "      <td>divertissement / business et autres</td>\n",
       "    </tr>\n",
       "    <tr>\n",
       "      <th>108992</th>\n",
       "      <td>6775b950cdc4da0ce39b261032f92c84</td>\n",
       "      <td>delivered</td>\n",
       "      <td>2018-06-13 12:19:26</td>\n",
       "      <td>1</td>\n",
       "      <td>7c5b05cbdb5542049f38d90d7815b97d</td>\n",
       "      <td>23.99</td>\n",
       "      <td>7.43</td>\n",
       "      <td>sao paulo</td>\n",
       "      <td>SP</td>\n",
       "      <td>-23.405387</td>\n",
       "      <td>...</td>\n",
       "      <td>SP</td>\n",
       "      <td>-23.498814</td>\n",
       "      <td>-46.705270</td>\n",
       "      <td>1</td>\n",
       "      <td>boleto</td>\n",
       "      <td>1</td>\n",
       "      <td>31.42</td>\n",
       "      <td>5</td>\n",
       "      <td>livres</td>\n",
       "      <td>divertissement / business et autres</td>\n",
       "    </tr>\n",
       "    <tr>\n",
       "      <th>108993</th>\n",
       "      <td>73d60420cd1a179b2d8887d538efe4c2</td>\n",
       "      <td>delivered</td>\n",
       "      <td>2018-08-07 10:52:58</td>\n",
       "      <td>1</td>\n",
       "      <td>9b1585752613ec342d03bbab9997ec48</td>\n",
       "      <td>749.00</td>\n",
       "      <td>55.96</td>\n",
       "      <td>rio de janeiro</td>\n",
       "      <td>RJ</td>\n",
       "      <td>-22.936264</td>\n",
       "      <td>...</td>\n",
       "      <td>MA</td>\n",
       "      <td>-4.206797</td>\n",
       "      <td>-44.791250</td>\n",
       "      <td>1</td>\n",
       "      <td>credit_card</td>\n",
       "      <td>10</td>\n",
       "      <td>804.96</td>\n",
       "      <td>5</td>\n",
       "      <td>livres</td>\n",
       "      <td>divertissement / business et autres</td>\n",
       "    </tr>\n",
       "  </tbody>\n",
       "</table>\n",
       "<p>108994 rows × 25 columns</p>\n",
       "</div>"
      ],
      "text/plain": [
       "                                order_id order_status  \\\n",
       "0       e481f51cbdc54678b7cc49136f2d6af7    delivered   \n",
       "1       128e10d95713541c87cd1a2e48201934    delivered   \n",
       "2       0e7e841ddf8f8f2de2bad69267ecfbcf    delivered   \n",
       "3       bfc39df4f36c3693ff3b63fcbea9e90a    delivered   \n",
       "4       5f49f31e537f8f1a496454b48edbe34d    delivered   \n",
       "...                                  ...          ...   \n",
       "108989  872b07190c0c9c0f13475d2141c4036a    delivered   \n",
       "108990  522eec5aa38ae3153b1c1a94e013947e    delivered   \n",
       "108991  1dbff949801376b8795a093d31cfe205    delivered   \n",
       "108992  6775b950cdc4da0ce39b261032f92c84    delivered   \n",
       "108993  73d60420cd1a179b2d8887d538efe4c2    delivered   \n",
       "\n",
       "       order_purchase_timestamp  order_item_id  \\\n",
       "0           2017-10-02 10:56:33              1   \n",
       "1           2017-08-15 18:29:31              1   \n",
       "2           2017-08-02 18:24:47              1   \n",
       "3           2017-10-23 23:26:46              1   \n",
       "4           2017-08-24 11:31:28              2   \n",
       "...                         ...            ...   \n",
       "108989      2018-07-03 10:10:12              2   \n",
       "108990      2018-07-05 16:25:40              1   \n",
       "108991      2018-05-16 14:50:54              1   \n",
       "108992      2018-06-13 12:19:26              1   \n",
       "108993      2018-08-07 10:52:58              1   \n",
       "\n",
       "                               seller_id   price  freight_value  \\\n",
       "0       3504c0cb71d7fa48d967e0e4c94d59d9   29.99           8.72   \n",
       "1       3504c0cb71d7fa48d967e0e4c94d59d9   29.99           7.78   \n",
       "2       3504c0cb71d7fa48d967e0e4c94d59d9   29.99           7.78   \n",
       "3       3504c0cb71d7fa48d967e0e4c94d59d9   29.99          14.10   \n",
       "4       3504c0cb71d7fa48d967e0e4c94d59d9   46.80          67.70   \n",
       "...                                  ...     ...            ...   \n",
       "108989  7c5b05cbdb5542049f38d90d7815b97d   64.99          19.37   \n",
       "108990  7c5b05cbdb5542049f38d90d7815b97d   44.99          18.42   \n",
       "108991  7c5b05cbdb5542049f38d90d7815b97d   58.99           7.39   \n",
       "108992  7c5b05cbdb5542049f38d90d7815b97d   23.99           7.43   \n",
       "108993  9b1585752613ec342d03bbab9997ec48  749.00          55.96   \n",
       "\n",
       "           seller_city seller_state  seller_lat  ...  customer_state  \\\n",
       "0                 maua           SP  -23.675542  ...              SP   \n",
       "1                 maua           SP  -23.675542  ...              SP   \n",
       "2                 maua           SP  -23.675542  ...              SP   \n",
       "3                 maua           SP  -23.675542  ...              SC   \n",
       "4                 maua           SP  -23.675542  ...              SP   \n",
       "...                ...          ...         ...  ...             ...   \n",
       "108989       sao paulo           SP  -23.405387  ...              PA   \n",
       "108990       sao paulo           SP  -23.405387  ...              PR   \n",
       "108991       sao paulo           SP  -23.405387  ...              SP   \n",
       "108992       sao paulo           SP  -23.405387  ...              SP   \n",
       "108993  rio de janeiro           RJ  -22.936264  ...              MA   \n",
       "\n",
       "        customer_lat  customer_lng payment_sequential payment_type  \\\n",
       "0         -23.583452    -46.586284                  2      voucher   \n",
       "1         -23.564977    -46.536043                  1  credit_card   \n",
       "2         -23.532175    -46.626106                  1  credit_card   \n",
       "3         -27.553442    -48.500027                  1       boleto   \n",
       "4         -23.555460    -46.639994                  1  credit_card   \n",
       "...              ...           ...                ...          ...   \n",
       "108989     -1.463764    -48.488360                  1  credit_card   \n",
       "108990    -25.521533    -48.528872                  1       boleto   \n",
       "108991    -23.721535    -46.390913                  1  credit_card   \n",
       "108992    -23.498814    -46.705270                  1       boleto   \n",
       "108993     -4.206797    -44.791250                  1  credit_card   \n",
       "\n",
       "       payment_installments  payment_value  review_score  \\\n",
       "0                         1          18.59             4   \n",
       "1                         3          37.77             4   \n",
       "2                         1          37.77             5   \n",
       "3                         1          44.09             3   \n",
       "4                         1         127.45             1   \n",
       "...                     ...            ...           ...   \n",
       "108989                    1         168.72             5   \n",
       "108990                    1          63.41             1   \n",
       "108991                    1          66.38             5   \n",
       "108992                    1          31.42             5   \n",
       "108993                   10         804.96             5   \n",
       "\n",
       "        product_category_name_english                     catégori cluster  \n",
       "0                      géneral maison                maison / construction  \n",
       "1                      géneral maison                maison / construction  \n",
       "2                      géneral maison                maison / construction  \n",
       "3                      géneral maison                maison / construction  \n",
       "4                      géneral maison                maison / construction  \n",
       "...                               ...                                  ...  \n",
       "108989                         livres  divertissement / business et autres  \n",
       "108990                         livres  divertissement / business et autres  \n",
       "108991                         livres  divertissement / business et autres  \n",
       "108992                         livres  divertissement / business et autres  \n",
       "108993                         livres  divertissement / business et autres  \n",
       "\n",
       "[108994 rows x 25 columns]"
      ]
     },
     "execution_count": 3,
     "metadata": {},
     "output_type": "execute_result"
    }
   ],
   "source": [
    "data_X"
   ]
  },
  {
   "cell_type": "code",
   "execution_count": 6,
   "id": "b35ff745",
   "metadata": {},
   "outputs": [],
   "source": [
    "data_X['order_purchase_timestamp'] =  pd.to_datetime(data_X['order_purchase_timestamp'])"
   ]
  },
  {
   "cell_type": "code",
   "execution_count": 4,
   "id": "89be3b30",
   "metadata": {},
   "outputs": [],
   "source": [
    "def relative_rfm_date(data_X, date):\n",
    "    data_X_date = data_X[data_X[\"order_purchase_timestamp\"] < date]\n",
    "    data_rfm = pd.DataFrame(columns=['customer_unique_id','récence','fréquence','montant'])\n",
    "    data_rfm['customer_unique_id'] = data_X_date['customer_unique_id'].unique()\n",
    "    \n",
    "    # La récence\n",
    "    data_full_rec = data_X_date.sort_values(by = 'order_purchase_timestamp') \n",
    "    data_full_rec = data_full_rec.drop_duplicates(subset='customer_unique_id', keep = 'last')\n",
    "    data_full_rec = data_full_rec[['customer_unique_id','order_purchase_timestamp']]\n",
    "    data_rfm =  pd.merge(data_rfm,data_full_rec, on=\"customer_unique_id\")\n",
    "    data_rfm['récence'] = data_rfm['order_purchase_timestamp'].values\n",
    "    data_rfm = data_rfm.drop(columns = ['order_purchase_timestamp'])\n",
    "    \n",
    "    min_date = data_rfm['récence'].min()\n",
    "    data_rfm['récence'] = data_rfm['récence'] - min_date\n",
    "    \n",
    "    def lambda_recence(x):\n",
    "        return x.days\n",
    "\n",
    "    data_rfm['récence'] = data_rfm['récence'].apply(lambda_recence)\n",
    "    # Il est important de noter qu'ici nous avons - min_date et non - max_date, donc les valeurs vont \n",
    "    # être positives. l'idée est de ne pas impacter la valeur de la récence au cours du temps et donc qu'elle ne \n",
    "    # dépende plus de la date relative.\n",
    "    \n",
    "    #La fréquence\n",
    "    nb_commandes_client = data_X_date[['order_id','customer_unique_id']]\n",
    "    # On supprime les lignes dupliquées pour les cas ou il y a plusieurs articles\n",
    "    nb_commandes_client.drop_duplicates(keep = 'first', inplace = True)\n",
    "    nb_commandes_client = pd.DataFrame(nb_commandes_client.groupby(by = ['customer_unique_id'])['order_id'].count()).reset_index()\n",
    "    nb_commandes_client = nb_commandes_client.rename(columns={\"order_id\": \"nb_commandes\"})\n",
    "    \n",
    "    data_rfm =  pd.merge(data_rfm, nb_commandes_client, on=\"customer_unique_id\")\n",
    "    data_rfm = data_rfm.drop(columns = ['fréquence'])\n",
    "    data_rfm = data_rfm.rename(columns={\"nb_commandes\": \"fréquence\"})\n",
    "    \n",
    "    #Le montant\n",
    "    data_rfm_montant = data_X_date[['price','freight_value','customer_unique_id']]\n",
    "    data_rfm_montant['prix_total'] = data_rfm_montant['price'] + data_rfm_montant['freight_value'] \n",
    "    data_rfm_montant.drop(columns = ['price','freight_value'], inplace = True)\n",
    "    data_rfm_montant = data_rfm_montant.groupby(by = 'customer_unique_id')['prix_total'].sum()\n",
    "    data_rfm_montant = pd.DataFrame(data_rfm_montant).reset_index()\n",
    "    data_rfm =  pd.merge(data_rfm, data_rfm_montant, on=\"customer_unique_id\")\n",
    "    data_rfm = data_rfm.drop(columns = ['montant'])\n",
    "    data_rfm = data_rfm.rename(columns={\"prix_total\": \"montant\"})\n",
    "    data_rfm.drop(columns = 'customer_unique_id', inplace = True)\n",
    "    return data_rfm"
   ]
  },
  {
   "cell_type": "markdown",
   "id": "5f873f20",
   "metadata": {},
   "source": [
    "Nous avons maintenant la possibilité de créer notre dataframe à partir d'une date donnée  \n",
    "**Exemple :**"
   ]
  },
  {
   "cell_type": "code",
   "execution_count": 56,
   "id": "7eea69c1",
   "metadata": {},
   "outputs": [
    {
     "data": {
      "text/html": [
       "<div>\n",
       "<style scoped>\n",
       "    .dataframe tbody tr th:only-of-type {\n",
       "        vertical-align: middle;\n",
       "    }\n",
       "\n",
       "    .dataframe tbody tr th {\n",
       "        vertical-align: top;\n",
       "    }\n",
       "\n",
       "    .dataframe thead th {\n",
       "        text-align: right;\n",
       "    }\n",
       "</style>\n",
       "<table border=\"1\" class=\"dataframe\">\n",
       "  <thead>\n",
       "    <tr style=\"text-align: right;\">\n",
       "      <th></th>\n",
       "      <th>récence</th>\n",
       "      <th>fréquence</th>\n",
       "      <th>montant</th>\n",
       "    </tr>\n",
       "  </thead>\n",
       "  <tbody>\n",
       "    <tr>\n",
       "      <th>0</th>\n",
       "      <td>211</td>\n",
       "      <td>1</td>\n",
       "      <td>260.51</td>\n",
       "    </tr>\n",
       "    <tr>\n",
       "      <th>1</th>\n",
       "      <td>186</td>\n",
       "      <td>1</td>\n",
       "      <td>34.86</td>\n",
       "    </tr>\n",
       "    <tr>\n",
       "      <th>2</th>\n",
       "      <td>187</td>\n",
       "      <td>1</td>\n",
       "      <td>34.86</td>\n",
       "    </tr>\n",
       "    <tr>\n",
       "      <th>3</th>\n",
       "      <td>226</td>\n",
       "      <td>1</td>\n",
       "      <td>34.86</td>\n",
       "    </tr>\n",
       "    <tr>\n",
       "      <th>4</th>\n",
       "      <td>201</td>\n",
       "      <td>1</td>\n",
       "      <td>82.84</td>\n",
       "    </tr>\n",
       "    <tr>\n",
       "      <th>...</th>\n",
       "      <td>...</td>\n",
       "      <td>...</td>\n",
       "      <td>...</td>\n",
       "    </tr>\n",
       "    <tr>\n",
       "      <th>6457</th>\n",
       "      <td>142</td>\n",
       "      <td>1</td>\n",
       "      <td>69.45</td>\n",
       "    </tr>\n",
       "    <tr>\n",
       "      <th>6458</th>\n",
       "      <td>158</td>\n",
       "      <td>1</td>\n",
       "      <td>134.00</td>\n",
       "    </tr>\n",
       "    <tr>\n",
       "      <th>6459</th>\n",
       "      <td>174</td>\n",
       "      <td>1</td>\n",
       "      <td>131.51</td>\n",
       "    </tr>\n",
       "    <tr>\n",
       "      <th>6460</th>\n",
       "      <td>34</td>\n",
       "      <td>1</td>\n",
       "      <td>150.99</td>\n",
       "    </tr>\n",
       "    <tr>\n",
       "      <th>6461</th>\n",
       "      <td>227</td>\n",
       "      <td>1</td>\n",
       "      <td>33.43</td>\n",
       "    </tr>\n",
       "  </tbody>\n",
       "</table>\n",
       "<p>6462 rows × 3 columns</p>\n",
       "</div>"
      ],
      "text/plain": [
       "      récence  fréquence  montant\n",
       "0         211          1   260.51\n",
       "1         186          1    34.86\n",
       "2         187          1    34.86\n",
       "3         226          1    34.86\n",
       "4         201          1    82.84\n",
       "...       ...        ...      ...\n",
       "6457      142          1    69.45\n",
       "6458      158          1   134.00\n",
       "6459      174          1   131.51\n",
       "6460       34          1   150.99\n",
       "6461      227          1    33.43\n",
       "\n",
       "[6462 rows x 3 columns]"
      ]
     },
     "execution_count": 56,
     "metadata": {},
     "output_type": "execute_result"
    }
   ],
   "source": [
    "a = relative_rfm_date(data_X, pd.to_datetime('2017-04-22'))\n",
    "a"
   ]
  },
  {
   "cell_type": "code",
   "execution_count": 40,
   "id": "d9a23c45",
   "metadata": {},
   "outputs": [
    {
     "data": {
      "text/plain": [
       "int"
      ]
     },
     "execution_count": 40,
     "metadata": {},
     "output_type": "execute_result"
    }
   ],
   "source": [
    "type(a[\"récence\"].iloc[0].days)"
   ]
  },
  {
   "cell_type": "code",
   "execution_count": 23,
   "id": "6b477c8b",
   "metadata": {},
   "outputs": [
    {
     "data": {
      "text/plain": [
       "Timestamp('2018-05-17 00:00:00')"
      ]
     },
     "execution_count": 23,
     "metadata": {},
     "output_type": "execute_result"
    }
   ],
   "source": [
    "pd.to_datetime('2018-05-16') + pd.Timedelta(1, \"d\")"
   ]
  },
  {
   "cell_type": "markdown",
   "id": "5e0843a2",
   "metadata": {},
   "source": [
    "**Il nous faut maintenant définir une date à partir de laquelle commencer le clustering**\n",
    "\n",
    "Nous allons déterminer une date vérifiant les conditions suivantes :  \n",
    "- Des clients avec plusieurs commandes\n",
    "- Des clients avec un montant total élevé\n",
    "- Une plage de date assez relativement large pour pouvoir dissocier les clients selon leur ancienneté."
   ]
  },
  {
   "cell_type": "code",
   "execution_count": 72,
   "id": "bfdfbd28",
   "metadata": {},
   "outputs": [
    {
     "data": {
      "text/plain": [
       "Timestamp('2016-09-04 21:15:19')"
      ]
     },
     "execution_count": 72,
     "metadata": {},
     "output_type": "execute_result"
    }
   ],
   "source": [
    "data_X['order_purchase_timestamp'].min()"
   ]
  },
  {
   "cell_type": "code",
   "execution_count": 73,
   "id": "a566ea72",
   "metadata": {},
   "outputs": [
    {
     "data": {
      "text/plain": [
       "Timestamp('2018-09-03 09:06:57')"
      ]
     },
     "execution_count": 73,
     "metadata": {},
     "output_type": "execute_result"
    }
   ],
   "source": [
    "data_X['order_purchase_timestamp'].max()"
   ]
  },
  {
   "cell_type": "markdown",
   "id": "0e635ba6",
   "metadata": {},
   "source": [
    "Le fichier s'étale donc sur 2 ans.   \n",
    "Il faut simplement trouver une date à partir de laquelle nos 5 clusters sont bien présents."
   ]
  },
  {
   "cell_type": "markdown",
   "id": "b435a9d4",
   "metadata": {},
   "source": [
    "Disons 10 mois avant la fin : soit le **2017-11-01**"
   ]
  },
  {
   "cell_type": "code",
   "execution_count": 379,
   "id": "c1f52bc7",
   "metadata": {},
   "outputs": [
    {
     "data": {
      "image/png": "[encoded data removed]",
      "text/plain": [
       "<Figure size 1000x700 with 3 Axes>"
      ]
     },
     "metadata": {},
     "output_type": "display_data"
    }
   ],
   "source": [
    "data_X_rfm = relative_rfm_date(data_X, pd.to_datetime('2017-10-01'))\n",
    "\n",
    "scaler_rfm = StandardScaler()\n",
    "data_X_rfm_scaled = scaler_rfm.fit_transform(data_X_rfm)\n",
    "\n",
    "kmeans_params = {\n",
    "    \"max_iter\": 10000,\n",
    "    \"random_state\": 42,\n",
    "    'n_clusters' : 5\n",
    "}\n",
    "cls = cluster.KMeans(**kmeans_params)\n",
    "cls.fit(data_X_rfm_scaled)\n",
    "data_X_labaled = data_X_rfm.copy()\n",
    "data_X_labaled['Cluster'] =  cls.labels_\n",
    "\n",
    "plt.style.use('default')\n",
    "sns.set_theme(style=\"darkgrid\")\n",
    "liste_variables = data_X_labaled.columns[:-1].values\n",
    "fig, axs = plt.subplots(nrows=len(liste_variables),  figsize=(10, 7))\n",
    "for i, col_ in enumerate(liste_variables):\n",
    "    sns.boxplot(x='Cluster', y= col_, data=data_X_labaled, ax=axs[i],showfliers = False, linewidth=1)\n",
    "    axs[i].set_ylabel(col_ ,rotation=85)\n",
    "    \n",
    "\n",
    "fig.show()"
   ]
  },
  {
   "cell_type": "markdown",
   "id": "e00cf75e",
   "metadata": {},
   "source": [
    "**Un petit problème :**  \n",
    "Nous voulons que le nature des cluster reste la même au cours du temps. \n",
    "Or on peut voir qu'avec 5 clusters le cluster N°4 ne représente pas les clients 'moyennement ancients' mais les clients avec des dépenses \"moyennement élevées\". Ce phénomène disparait au cours du temps mais pour évité de changer la nature des clusters nous allons fixer leur nombre à 4."
   ]
  },
  {
   "cell_type": "code",
   "execution_count": 382,
   "id": "bf7c3d12",
   "metadata": {},
   "outputs": [
    {
     "data": {
      "image/png": "[encoded data removed]",
      "text/plain": [
       "<Figure size 1000x700 with 3 Axes>"
      ]
     },
     "metadata": {},
     "output_type": "display_data"
    }
   ],
   "source": [
    "data_X_rfm = relative_rfm_date(data_X, pd.to_datetime('2017-11-01'))\n",
    "\n",
    "scaler_rfm = StandardScaler()\n",
    "data_X_rfm_scaled = scaler_rfm.fit_transform(data_X_rfm)\n",
    "\n",
    "kmeans_params = {\n",
    "    \"max_iter\": 10000,\n",
    "    \"random_state\": 42,\n",
    "    \"n_clusters\" : 4\n",
    "}\n",
    "cls = cluster.KMeans(**kmeans_params)\n",
    "cls.fit(data_X_rfm_scaled)\n",
    "data_X_labaled = data_X_rfm.copy()\n",
    "data_X_labaled['Cluster'] =  cls.labels_\n",
    "\n",
    "plt.style.use('default')\n",
    "sns.set_theme(style=\"darkgrid\")\n",
    "liste_variables = data_X_labaled.columns[:-1].values\n",
    "fig, axs = plt.subplots(nrows=len(liste_variables),  figsize=(10, 7))\n",
    "for i, col_ in enumerate(liste_variables):\n",
    "    sns.boxplot(x='Cluster', y= col_, data=data_X_labaled, ax=axs[i],showfliers = False, linewidth=1)\n",
    "    axs[i].set_ylabel(col_ ,rotation=85)\n",
    "    \n",
    "\n",
    "fig.show()"
   ]
  },
  {
   "cell_type": "markdown",
   "id": "84fd2a51",
   "metadata": {},
   "source": [
    "Voilà, maintenant les clusters sont bien différenciés : \n",
    "- Un pour la fréquence élvée\n",
    "- Un autre pour le montant élevé\n",
    "- Deux autres pour l'ancienneté \n",
    "\n",
    "Ils resterons de même nature au fil du temps"
   ]
  },
  {
   "cell_type": "markdown",
   "id": "42d17c71",
   "metadata": {},
   "source": [
    "## Définir une méthode pour étudier la qualité du clustering prédit"
   ]
  },
  {
   "cell_type": "markdown",
   "id": "12386369",
   "metadata": {},
   "source": [
    "Nous allons utiliser l'ARI : https://scikit-learn.org/stable/modules/generated/sklearn.metrics.adjusted_rand_score.html"
   ]
  },
  {
   "cell_type": "markdown",
   "id": "5904bbc2",
   "metadata": {},
   "source": [
    "Cette méthode va nous donner un score entre -1 et 1, prenant en entrée le clustering A et B, plus le score est proche de 1 plus les deux clustering seront similaires."
   ]
  },
  {
   "cell_type": "markdown",
   "id": "aeda6f5f",
   "metadata": {},
   "source": [
    "Il est important de noter que cette méthode ne va pas prendre en compte le numéro des clusters, car comme nous l'avons vu parfois l'odre des clusters peut varier d'un clustering à un autre"
   ]
  },
  {
   "cell_type": "code",
   "execution_count": 71,
   "id": "e04f83f3",
   "metadata": {},
   "outputs": [
    {
     "data": {
      "text/plain": [
       "1.0"
      ]
     },
     "execution_count": 71,
     "metadata": {},
     "output_type": "execute_result"
    }
   ],
   "source": [
    "from sklearn.metrics.cluster import adjusted_rand_score\n",
    "adjusted_rand_score([0, 0, 2, 2], [2, 2, 1, 1])"
   ]
  },
  {
   "cell_type": "code",
   "execution_count": 67,
   "id": "fe0e844e",
   "metadata": {},
   "outputs": [
    {
     "data": {
      "text/plain": [
       "0"
      ]
     },
     "execution_count": 67,
     "metadata": {},
     "output_type": "execute_result"
    }
   ],
   "source": [
    "data_X_rfm['récence_x'].max()"
   ]
  },
  {
   "cell_type": "code",
   "execution_count": 68,
   "id": "34d12b8e",
   "metadata": {},
   "outputs": [
    {
     "data": {
      "text/plain": [
       "-729"
      ]
     },
     "execution_count": 68,
     "metadata": {},
     "output_type": "execute_result"
    }
   ],
   "source": [
    "data_X_rfm['récence_x'].min()"
   ]
  },
  {
   "cell_type": "markdown",
   "id": "69cf8dcc",
   "metadata": {},
   "source": [
    "Le jeu de données s'étale donc sur 729 jours."
   ]
  },
  {
   "cell_type": "markdown",
   "id": "2e1853c7",
   "metadata": {},
   "source": [
    "## Méthodologie"
   ]
  },
  {
   "cell_type": "markdown",
   "id": "b140fafc",
   "metadata": {},
   "source": [
    "Nous devons donc trouver un delta en jours tq l'ARI entre les deux clustering calculé de manière directe par Kmeans et le clustering prédit avec le modèle de l'instant précédent "
   ]
  },
  {
   "cell_type": "markdown",
   "id": "a21e20de",
   "metadata": {},
   "source": [
    "Commençons par faire un petit test :"
   ]
  },
  {
   "cell_type": "code",
   "execution_count": 384,
   "id": "f35aa558",
   "metadata": {},
   "outputs": [],
   "source": [
    "# Premiere étape : On calcule le clustering au temps initial\n",
    "\n",
    "data_X_rfm = relative_rfm_date(data_X, pd.to_datetime('2017-11-01'))\n",
    "\n",
    "scaler_rfm = StandardScaler()\n",
    "data_X_rfm_scaled = scaler_rfm.fit_transform(data_X_rfm)\n",
    "\n",
    "kmeans_params = {\n",
    "    \"max_iter\": 10000,\n",
    "    \"random_state\": 42,\n",
    "    \"n_clusters\" : 4\n",
    "}\n",
    "cls = cluster.KMeans(**kmeans_params)\n",
    "cls.fit(data_X_rfm_scaled)\n",
    "\n",
    "# 2 : on prédit les numéros de cluster sur un date ulterieure (disons 1 mois)\n",
    "\n",
    "data_X_rfm = relative_rfm_date(data_X, pd.to_datetime('2017-12-01'))\n",
    "data_X_rfm_scaled = scaler_rfm.transform(data_X_rfm)\n",
    "\n",
    "label_predict = cls.predict(data_X_rfm_scaled)\n",
    "\n",
    "# 3 : On calcule les vrais labels cette date  :\n",
    "scaler_rfm = StandardScaler()\n",
    "data_X_rfm_scaled = scaler_rfm.fit_transform(data_X_rfm)\n",
    "cls = cluster.KMeans(**kmeans_params)\n",
    "cls.fit(data_X_rfm_scaled)\n",
    "\n",
    "label_true = cls.predict(data_X_rfm_scaled)"
   ]
  },
  {
   "cell_type": "code",
   "execution_count": 385,
   "id": "fe59702d",
   "metadata": {},
   "outputs": [
    {
     "data": {
      "text/plain": [
       "0.7663695280194864"
      ]
     },
     "execution_count": 385,
     "metadata": {},
     "output_type": "execute_result"
    }
   ],
   "source": [
    "adjusted_rand_score(label_predict,label_true)"
   ]
  },
  {
   "cell_type": "markdown",
   "id": "c5edef38",
   "metadata": {},
   "source": [
    "Nous pouvons alors constater que au bout d'un mois le score ARI est de 0.76."
   ]
  },
  {
   "cell_type": "code",
   "execution_count": 386,
   "id": "cc0c3b31",
   "metadata": {},
   "outputs": [],
   "source": [
    "data_X_rfm = relative_rfm_date(data_X, pd.to_datetime('2018-07-30'))\n",
    "\n",
    "scaler_rfm = StandardScaler()\n",
    "data_X_rfm_scaled = scaler_rfm.fit_transform(data_X_rfm)\n",
    "\n",
    "kmeans_params = {\n",
    "    \"max_iter\": 10000,\n",
    "    \"random_state\": 42,\n",
    "    \"n_clusters\" : 4\n",
    "}\n",
    "\n",
    "cls = cluster.KMeans(**kmeans_params)\n",
    "cls.fit(data_X_rfm_scaled)\n",
    "\n",
    "# 2 : on prédit les numéros de cluster sur un date ulterieure (disons 2 mois)\n",
    "\n",
    "data_X_rfm = relative_rfm_date(data_X, pd.to_datetime('2018-08-30'))\n",
    "data_X_rfm_scaled = scaler_rfm.transform(data_X_rfm)\n",
    "\n",
    "label_predict = cls.predict(data_X_rfm_scaled)\n",
    "\n",
    "# 3 : On calcule les vrais labels cette date  :\n",
    "scaler_rfm = StandardScaler()\n",
    "data_X_rfm_scaled = scaler_rfm.fit_transform(data_X_rfm)\n",
    "cls = cluster.KMeans(**kmeans_params)\n",
    "cls.fit(data_X_rfm_scaled)\n",
    "\n",
    "label_true = cls.predict(data_X_rfm_scaled)"
   ]
  },
  {
   "cell_type": "code",
   "execution_count": 387,
   "id": "f213a131",
   "metadata": {},
   "outputs": [
    {
     "data": {
      "text/plain": [
       "0.6869070531087973"
      ]
     },
     "execution_count": 387,
     "metadata": {},
     "output_type": "execute_result"
    }
   ],
   "source": [
    "adjusted_rand_score(label_predict,label_true)"
   ]
  },
  {
   "cell_type": "markdown",
   "id": "cadfde42",
   "metadata": {},
   "source": [
    "Ici nous constatons que le clustering est clairement mauvais, et donc qu'il y aurait besoin d'une mise à jour.\n",
    "\n",
    "Nous contruisons alors une fonction qui va nous permettre de déterminer le delta de mise à jour en fonction d'un seuil donné."
   ]
  },
  {
   "cell_type": "code",
   "execution_count": 431,
   "id": "daab6bc9",
   "metadata": {},
   "outputs": [],
   "source": [
    "from sklearn.metrics import mutual_info_score\n",
    "from sklearn.preprocessing import RobustScaler\n",
    "\n",
    "\n",
    "def delta_simulation(data_X, seuil_ari, initial_date, delta_init): \n",
    "    conserve_score = []\n",
    "    conserve_date = []\n",
    "    # On place un delta en jour, il va dimininuer a chaque itération\n",
    "    delta = 160 \n",
    "    # Temps initial\n",
    "    T0 = initial_date\n",
    "    # temps initial + delta\n",
    "    T1 = initial_date + pd.Timedelta(delta_init, \"d\")\n",
    "    # Date maximale du fichier client\n",
    "    max_date = data_X['order_purchase_timestamp'].max()\n",
    "    #paramètres du Kmeans\n",
    "    kmeans_params = {\n",
    "    \"max_iter\": 10000,\n",
    "    \"random_state\": 42,\n",
    "    \"n_clusters\" : 4\n",
    "    }\n",
    "\n",
    "    while max_date > T1 -  pd.Timedelta(delta_init, \"d\"):\n",
    "        data_X_rfm = relative_rfm_date(data_X, T0)\n",
    "\n",
    "        scaler_rfm = StandardScaler()\n",
    "        data_X_rfm_scaled = scaler_rfm.fit_transform(data_X_rfm)\n",
    "\n",
    "\n",
    "        cls = cluster.KMeans(**kmeans_params)\n",
    "        cls.fit(data_X_rfm_scaled)\n",
    "        #cls.fit(data_X_rfm)\n",
    "\n",
    "        # 2 : on prédit les numéros de cluster sur un date \n",
    "\n",
    "        data_X_rfm = relative_rfm_date(data_X, T1)\n",
    "        data_X_rfm_scaled = scaler_rfm.transform(data_X_rfm)\n",
    "\n",
    "        label_predict = cls.predict(data_X_rfm_scaled)\n",
    "        #label_predict = cls.predict(data_X_rfm)\n",
    "        \n",
    "        # 3 : On calcule les vrais labels cette date  :\n",
    "        scaler_rfm = StandardScaler()\n",
    "        data_X_rfm_scaled = scaler_rfm.fit_transform(data_X_rfm)\n",
    "        cls = cluster.KMeans(**kmeans_params)\n",
    "        cls.fit(data_X_rfm_scaled)\n",
    "        #cls.fit(scaler_rfm)\n",
    "        \n",
    "        label_true = cls.predict(data_X_rfm_scaled)\n",
    "        #label_true = cls.predict(scaler_rfm)\n",
    "        score_ari = adjusted_rand_score(label_predict,label_true)\n",
    "        #score_mutual = mutual_info_score(label_true, label_predict)\n",
    "        # On regarde alors si le score est ok\n",
    "        print(f'pour delta = {delta_init}')\n",
    "        print(f' entre la date du {T0} et du {T1}')\n",
    "        print(f' Nous avons un score ARI de  {score_ari}')\n",
    "        #print(f' Nous avons un Mutual score de  {score_mutual}')\n",
    "        # On récupère les résultats avec delta init = 10 pour illuster le problème d'août\n",
    "        if delta_init == 10 :\n",
    "            conserve_score.append(score_ari)\n",
    "            conserve_date.append(T1)\n",
    "            \n",
    "        \n",
    "        if score_ari < seuil_ari :\n",
    "            # Dans ce cas on repart à partir de la date initiale avec un delta de -10jours\n",
    "            T0 = initial_date\n",
    "            delta_init = delta_init - 10\n",
    "            T1 = initial_date + pd.Timedelta(delta_init, \"d\")\n",
    "        else :\n",
    "            T0 = T1\n",
    "            T1 = T1 + pd.Timedelta(delta_init, \"d\") \n",
    "\n",
    "        \n",
    "    return delta_init, conserve_score, conserve_date\n",
    "        "
   ]
  },
  {
   "cell_type": "markdown",
   "id": "de16cd60",
   "metadata": {},
   "source": [
    "**Un premier test**"
   ]
  },
  {
   "cell_type": "code",
   "execution_count": 437,
   "id": "902f2a83",
   "metadata": {
    "scrolled": false
   },
   "outputs": [
    {
     "name": "stdout",
     "output_type": "stream",
     "text": [
      "pour delta = 40\n",
      " entre la date du 2017-11-01 00:00:00 et du 2017-12-11 00:00:00\n",
      " Nous avons un score ARI de  0.7048165588783087\n",
      "pour delta = 30\n",
      " entre la date du 2017-11-01 00:00:00 et du 2017-12-01 00:00:00\n",
      " Nous avons un score ARI de  0.7663695280194864\n",
      "pour delta = 30\n",
      " entre la date du 2017-12-01 00:00:00 et du 2017-12-31 00:00:00\n",
      " Nous avons un score ARI de  0.8458525575031627\n",
      "pour delta = 30\n",
      " entre la date du 2017-12-31 00:00:00 et du 2018-01-30 00:00:00\n",
      " Nous avons un score ARI de  0.8080857188610752\n",
      "pour delta = 30\n",
      " entre la date du 2018-01-30 00:00:00 et du 2018-03-01 00:00:00\n",
      " Nous avons un score ARI de  0.8776954998723665\n",
      "pour delta = 30\n",
      " entre la date du 2018-03-01 00:00:00 et du 2018-03-31 00:00:00\n",
      " Nous avons un score ARI de  0.882731149818634\n",
      "pour delta = 30\n",
      " entre la date du 2018-03-31 00:00:00 et du 2018-04-30 00:00:00\n",
      " Nous avons un score ARI de  0.9070180274461819\n",
      "pour delta = 30\n",
      " entre la date du 2018-04-30 00:00:00 et du 2018-05-30 00:00:00\n",
      " Nous avons un score ARI de  0.9114504568675561\n",
      "pour delta = 30\n",
      " entre la date du 2018-05-30 00:00:00 et du 2018-06-29 00:00:00\n",
      " Nous avons un score ARI de  0.9197963287165161\n",
      "pour delta = 30\n",
      " entre la date du 2018-06-29 00:00:00 et du 2018-07-29 00:00:00\n",
      " Nous avons un score ARI de  0.9358188966261447\n",
      "pour delta = 30\n",
      " entre la date du 2018-07-29 00:00:00 et du 2018-08-28 00:00:00\n",
      " Nous avons un score ARI de  0.682760627484392\n",
      "pour delta = 20\n",
      " entre la date du 2017-11-01 00:00:00 et du 2017-11-21 00:00:00\n",
      " Nous avons un score ARI de  0.8984051598415241\n",
      "pour delta = 20\n",
      " entre la date du 2017-11-21 00:00:00 et du 2017-12-11 00:00:00\n",
      " Nous avons un score ARI de  0.7789778911164934\n",
      "pour delta = 20\n",
      " entre la date du 2017-12-11 00:00:00 et du 2017-12-31 00:00:00\n",
      " Nous avons un score ARI de  0.9221740196650814\n",
      "pour delta = 20\n",
      " entre la date du 2017-12-31 00:00:00 et du 2018-01-20 00:00:00\n",
      " Nous avons un score ARI de  0.8637556771708009\n",
      "pour delta = 20\n",
      " entre la date du 2018-01-20 00:00:00 et du 2018-02-09 00:00:00\n",
      " Nous avons un score ARI de  0.8881823424809759\n",
      "pour delta = 20\n",
      " entre la date du 2018-02-09 00:00:00 et du 2018-03-01 00:00:00\n",
      " Nous avons un score ARI de  0.9222989139085304\n",
      "pour delta = 20\n",
      " entre la date du 2018-03-01 00:00:00 et du 2018-03-21 00:00:00\n",
      " Nous avons un score ARI de  0.9286781267626651\n",
      "pour delta = 20\n",
      " entre la date du 2018-03-21 00:00:00 et du 2018-04-10 00:00:00\n",
      " Nous avons un score ARI de  0.9087584616422386\n",
      "pour delta = 20\n",
      " entre la date du 2018-04-10 00:00:00 et du 2018-04-30 00:00:00\n",
      " Nous avons un score ARI de  0.9441240505030211\n",
      "pour delta = 20\n",
      " entre la date du 2018-04-30 00:00:00 et du 2018-05-20 00:00:00\n",
      " Nous avons un score ARI de  0.9272251959951272\n",
      "pour delta = 20\n",
      " entre la date du 2018-05-20 00:00:00 et du 2018-06-09 00:00:00\n",
      " Nous avons un score ARI de  0.9493202730443355\n",
      "pour delta = 20\n",
      " entre la date du 2018-06-09 00:00:00 et du 2018-06-29 00:00:00\n",
      " Nous avons un score ARI de  0.9487309698642216\n",
      "pour delta = 20\n",
      " entre la date du 2018-06-29 00:00:00 et du 2018-07-19 00:00:00\n",
      " Nous avons un score ARI de  0.9667915672091816\n",
      "pour delta = 20\n",
      " entre la date du 2018-07-19 00:00:00 et du 2018-08-08 00:00:00\n",
      " Nous avons un score ARI de  0.9149082454515662\n",
      "pour delta = 20\n",
      " entre la date du 2018-08-08 00:00:00 et du 2018-08-28 00:00:00\n",
      " Nous avons un score ARI de  0.725230006268528\n",
      "pour delta = 10\n",
      " entre la date du 2017-11-01 00:00:00 et du 2017-11-11 00:00:00\n",
      " Nous avons un score ARI de  0.9576822062360606\n",
      "pour delta = 10\n",
      " entre la date du 2017-11-11 00:00:00 et du 2017-11-21 00:00:00\n",
      " Nous avons un score ARI de  0.9369770755701538\n",
      "pour delta = 10\n",
      " entre la date du 2017-11-21 00:00:00 et du 2017-12-01 00:00:00\n",
      " Nous avons un score ARI de  0.8492139031916703\n",
      "pour delta = 10\n",
      " entre la date du 2017-12-01 00:00:00 et du 2017-12-11 00:00:00\n",
      " Nous avons un score ARI de  0.9137540275466294\n",
      "pour delta = 10\n",
      " entre la date du 2017-12-11 00:00:00 et du 2017-12-21 00:00:00\n",
      " Nous avons un score ARI de  0.950557802683848\n",
      "pour delta = 10\n",
      " entre la date du 2017-12-21 00:00:00 et du 2017-12-31 00:00:00\n",
      " Nous avons un score ARI de  0.9694457406384233\n",
      "pour delta = 10\n",
      " entre la date du 2017-12-31 00:00:00 et du 2018-01-10 00:00:00\n",
      " Nous avons un score ARI de  0.9314771777613544\n",
      "pour delta = 10\n",
      " entre la date du 2018-01-10 00:00:00 et du 2018-01-20 00:00:00\n",
      " Nous avons un score ARI de  0.9265985219963802\n",
      "pour delta = 10\n",
      " entre la date du 2018-01-20 00:00:00 et du 2018-01-30 00:00:00\n",
      " Nous avons un score ARI de  0.9308704418303019\n",
      "pour delta = 10\n",
      " entre la date du 2018-01-30 00:00:00 et du 2018-02-09 00:00:00\n",
      " Nous avons un score ARI de  0.9491557173438757\n",
      "pour delta = 10\n",
      " entre la date du 2018-02-09 00:00:00 et du 2018-02-19 00:00:00\n",
      " Nous avons un score ARI de  0.9704116771750857\n",
      "pour delta = 10\n",
      " entre la date du 2018-02-19 00:00:00 et du 2018-03-01 00:00:00\n",
      " Nous avons un score ARI de  0.9494626090996716\n",
      "pour delta = 10\n",
      " entre la date du 2018-03-01 00:00:00 et du 2018-03-11 00:00:00\n",
      " Nous avons un score ARI de  0.960745138278241\n",
      "pour delta = 10\n",
      " entre la date du 2018-03-11 00:00:00 et du 2018-03-21 00:00:00\n",
      " Nous avons un score ARI de  0.9656323107271136\n",
      "pour delta = 10\n",
      " entre la date du 2018-03-21 00:00:00 et du 2018-03-31 00:00:00\n",
      " Nous avons un score ARI de  0.9483115929806953\n",
      "pour delta = 10\n",
      " entre la date du 2018-03-31 00:00:00 et du 2018-04-10 00:00:00\n",
      " Nous avons un score ARI de  0.957455514845635\n",
      "pour delta = 10\n",
      " entre la date du 2018-04-10 00:00:00 et du 2018-04-20 00:00:00\n",
      " Nous avons un score ARI de  0.9665065071678242\n",
      "pour delta = 10\n",
      " entre la date du 2018-04-20 00:00:00 et du 2018-04-30 00:00:00\n",
      " Nous avons un score ARI de  0.9748933277774186\n",
      "pour delta = 10\n",
      " entre la date du 2018-04-30 00:00:00 et du 2018-05-10 00:00:00\n",
      " Nous avons un score ARI de  0.9605191144912927\n",
      "pour delta = 10\n",
      " entre la date du 2018-05-10 00:00:00 et du 2018-05-20 00:00:00\n",
      " Nous avons un score ARI de  0.9641803596786518\n",
      "pour delta = 10\n",
      " entre la date du 2018-05-20 00:00:00 et du 2018-05-30 00:00:00\n",
      " Nous avons un score ARI de  0.9820743629835066\n",
      "pour delta = 10\n",
      " entre la date du 2018-05-30 00:00:00 et du 2018-06-09 00:00:00\n",
      " Nous avons un score ARI de  0.9664996479774043\n",
      "pour delta = 10\n",
      " entre la date du 2018-06-09 00:00:00 et du 2018-06-19 00:00:00\n",
      " Nous avons un score ARI de  0.9701404997029667\n",
      "pour delta = 10\n",
      " entre la date du 2018-06-19 00:00:00 et du 2018-06-29 00:00:00\n",
      " Nous avons un score ARI de  0.9774463643813112\n",
      "pour delta = 10\n",
      " entre la date du 2018-06-29 00:00:00 et du 2018-07-09 00:00:00\n",
      " Nous avons un score ARI de  0.9838048083899772\n",
      "pour delta = 10\n",
      " entre la date du 2018-07-09 00:00:00 et du 2018-07-19 00:00:00\n",
      " Nous avons un score ARI de  0.9824542804759345\n",
      "pour delta = 10\n",
      " entre la date du 2018-07-19 00:00:00 et du 2018-07-29 00:00:00\n",
      " Nous avons un score ARI de  0.9672303066834399\n",
      "pour delta = 10\n",
      " entre la date du 2018-07-29 00:00:00 et du 2018-08-08 00:00:00\n",
      " Nous avons un score ARI de  0.9455919685300666\n",
      "pour delta = 10\n",
      " entre la date du 2018-08-08 00:00:00 et du 2018-08-18 00:00:00\n",
      " Nous avons un score ARI de  0.7567328676977111\n",
      "pour delta = 10\n",
      " entre la date du 2018-08-18 00:00:00 et du 2018-08-28 00:00:00\n",
      " Nous avons un score ARI de  0.9584241696017007\n",
      "pour delta = 10\n",
      " entre la date du 2018-08-28 00:00:00 et du 2018-09-07 00:00:00\n",
      " Nous avons un score ARI de  0.9997518029965242\n"
     ]
    }
   ],
   "source": [
    "delta_init, conserve_score, conserve_date = delta_simulation(data_X, 0.75, pd.to_datetime('2017-11-01'), 40)"
   ]
  },
  {
   "cell_type": "markdown",
   "id": "41b92e86",
   "metadata": {},
   "source": [
    "Summary\n",
    "To summarise, in the third part of the series we analysed the Clustering performance metrics, focusing in particular on:\n",
    "\n",
    "Silhouette Score\n",
    "Rand Index\n",
    "Adjusted Rand Index\n",
    "Mutual Information\n",
    "Calinski-Harabasz Index\n",
    "Davies-Bouldin Index"
   ]
  },
  {
   "cell_type": "markdown",
   "id": "1f8c68eb",
   "metadata": {},
   "source": [
    "**Nous avons un problème :**  \n",
    "Le score ARI Chute brutalement durant la prériode du 2018-08-09 au 2018-08-19   \n"
   ]
  },
  {
   "cell_type": "code",
   "execution_count": 297,
   "id": "9153e642",
   "metadata": {},
   "outputs": [
    {
     "name": "stderr",
     "output_type": "stream",
     "text": [
      "No artists with labels found to put in legend.  Note that artists whose label start with an underscore are ignored when legend() is called with no argument.\n"
     ]
    },
    {
     "data": {
      "image/png": "[encoded data removed]",
      "text/plain": [
       "<Figure size 700x670 with 1 Axes>"
      ]
     },
     "metadata": {},
     "output_type": "display_data"
    }
   ],
   "source": [
    "plt.figure(figsize=(7, 6.7), layout='constrained')\n",
    "plt.plot(conserve_date, conserve_score)  # Plot some data on the (implicit) axes.\n",
    "plt.xlabel('x label')\n",
    "plt.ylabel('Score ARI')\n",
    "plt.title(\"Evolution de l'ARI pour delta = 10\")\n",
    "plt.legend();"
   ]
  },
  {
   "cell_type": "markdown",
   "id": "3a66a4e7",
   "metadata": {},
   "source": [
    "Nous alons donc étudier le scrore ARI jour par jour durant cette période pour déterminer exactement le jour qui pose problème."
   ]
  },
  {
   "cell_type": "code",
   "execution_count": 298,
   "id": "fb7f6d0d",
   "metadata": {
    "scrolled": false
   },
   "outputs": [
    {
     "name": "stdout",
     "output_type": "stream",
     "text": [
      "pour delta = 1\n",
      " entre la date du 2018-08-06 00:00:00 et du 2018-08-07 00:00:00\n",
      " Nous avons un score ARI de  0.9925841881035763\n",
      "pour delta = 1\n",
      " entre la date du 2018-08-07 00:00:00 et du 2018-08-08 00:00:00\n",
      " Nous avons un score ARI de  0.9848108638185995\n",
      "pour delta = 1\n",
      " entre la date du 2018-08-08 00:00:00 et du 2018-08-09 00:00:00\n",
      " Nous avons un score ARI de  0.9980894829076994\n",
      "pour delta = 1\n",
      " entre la date du 2018-08-09 00:00:00 et du 2018-08-10 00:00:00\n",
      " Nous avons un score ARI de  0.8090270543247126\n",
      "pour delta = 1\n",
      " entre la date du 2018-08-10 00:00:00 et du 2018-08-11 00:00:00\n",
      " Nous avons un score ARI de  0.9754155101308388\n",
      "pour delta = 1\n",
      " entre la date du 2018-08-11 00:00:00 et du 2018-08-12 00:00:00\n",
      " Nous avons un score ARI de  0.9985915376675221\n",
      "pour delta = 1\n",
      " entre la date du 2018-08-12 00:00:00 et du 2018-08-13 00:00:00\n",
      " Nous avons un score ARI de  0.9910623109855182\n",
      "pour delta = 1\n",
      " entre la date du 2018-08-13 00:00:00 et du 2018-08-14 00:00:00\n",
      " Nous avons un score ARI de  0.9912269826153638\n",
      "pour delta = 1\n",
      " entre la date du 2018-08-14 00:00:00 et du 2018-08-15 00:00:00\n",
      " Nous avons un score ARI de  0.9914743969906544\n",
      "pour delta = 1\n",
      " entre la date du 2018-08-15 00:00:00 et du 2018-08-16 00:00:00\n",
      " Nous avons un score ARI de  0.991615256379699\n",
      "pour delta = 1\n",
      " entre la date du 2018-08-16 00:00:00 et du 2018-08-17 00:00:00\n",
      " Nous avons un score ARI de  0.9940435887733904\n",
      "pour delta = 1\n",
      " entre la date du 2018-08-17 00:00:00 et du 2018-08-18 00:00:00\n",
      " Nous avons un score ARI de  0.9974442483783648\n",
      "pour delta = 1\n",
      " entre la date du 2018-08-18 00:00:00 et du 2018-08-19 00:00:00\n",
      " Nous avons un score ARI de  0.9996521413493412\n",
      "pour delta = 1\n",
      " entre la date du 2018-08-19 00:00:00 et du 2018-08-20 00:00:00\n",
      " Nous avons un score ARI de  0.990786652486385\n",
      "pour delta = 1\n",
      " entre la date du 2018-08-20 00:00:00 et du 2018-08-21 00:00:00\n",
      " Nous avons un score ARI de  0.9915949086585288\n",
      "pour delta = 1\n",
      " entre la date du 2018-08-21 00:00:00 et du 2018-08-22 00:00:00\n",
      " Nous avons un score ARI de  0.9909888518659835\n",
      "pour delta = 1\n",
      " entre la date du 2018-08-22 00:00:00 et du 2018-08-23 00:00:00\n",
      " Nous avons un score ARI de  0.9922235109847758\n",
      "pour delta = 1\n",
      " entre la date du 2018-08-23 00:00:00 et du 2018-08-24 00:00:00\n",
      " Nous avons un score ARI de  0.9993561184110549\n",
      "pour delta = 1\n",
      " entre la date du 2018-08-24 00:00:00 et du 2018-08-25 00:00:00\n",
      " Nous avons un score ARI de  0.9994875569078788\n",
      "pour delta = 1\n",
      " entre la date du 2018-08-25 00:00:00 et du 2018-08-26 00:00:00\n",
      " Nous avons un score ARI de  0.9998983765373777\n",
      "pour delta = 1\n",
      " entre la date du 2018-08-26 00:00:00 et du 2018-08-27 00:00:00\n",
      " Nous avons un score ARI de  0.9994169289327369\n",
      "pour delta = 1\n",
      " entre la date du 2018-08-27 00:00:00 et du 2018-08-28 00:00:00\n",
      " Nous avons un score ARI de  0.9928276992696025\n",
      "pour delta = 1\n",
      " entre la date du 2018-08-28 00:00:00 et du 2018-08-29 00:00:00\n",
      " Nous avons un score ARI de  0.9997931405732319\n",
      "pour delta = 1\n",
      " entre la date du 2018-08-29 00:00:00 et du 2018-08-30 00:00:00\n",
      " Nous avons un score ARI de  0.9994572746693512\n",
      "pour delta = 1\n",
      " entre la date du 2018-08-30 00:00:00 et du 2018-08-31 00:00:00\n",
      " Nous avons un score ARI de  1.0\n",
      "pour delta = 1\n",
      " entre la date du 2018-08-31 00:00:00 et du 2018-09-01 00:00:00\n",
      " Nous avons un score ARI de  1.0\n",
      "pour delta = 1\n",
      " entre la date du 2018-09-01 00:00:00 et du 2018-09-02 00:00:00\n",
      " Nous avons un score ARI de  1.0\n",
      "pour delta = 1\n",
      " entre la date du 2018-09-02 00:00:00 et du 2018-09-03 00:00:00\n",
      " Nous avons un score ARI de  1.0\n",
      "pour delta = 1\n",
      " entre la date du 2018-09-03 00:00:00 et du 2018-09-04 00:00:00\n",
      " Nous avons un score ARI de  0.9994159190708811\n"
     ]
    }
   ],
   "source": [
    "delta_init, conserve_score, conserve_date = delta_simulation(data_X, 0.2, pd.to_datetime('2018-08-06'), 1)"
   ]
  },
  {
   "cell_type": "markdown",
   "id": "3fa0fdbc",
   "metadata": {},
   "source": [
    "**Le problème est donc situé au 2018-08-10** "
   ]
  },
  {
   "cell_type": "markdown",
   "id": "8957a30f",
   "metadata": {},
   "source": [
    "#### Trouver la solution au problème \n"
   ]
  },
  {
   "cell_type": "markdown",
   "id": "6e06b4d9",
   "metadata": {},
   "source": [
    "Nous allons regarder les statitiques par cluster avant et après cette date pour comprendre ce qui a était modifié"
   ]
  },
  {
   "cell_type": "code",
   "execution_count": 14,
   "id": "6cc6323d",
   "metadata": {},
   "outputs": [],
   "source": [
    "data_X_rfm = relative_rfm_date(data_X, pd.to_datetime('2018-08-09'))\n",
    "\n",
    "scaler_rfm = StandardScaler()\n",
    "data_X_rfm_scaled = scaler_rfm.fit_transform(data_X_rfm)\n",
    "\n",
    "kmeans_params = {\n",
    "    \"max_iter\": 10000,\n",
    "    \"random_state\": 42,\n",
    "    \"n_clusters\" : 4\n",
    "}\n",
    "cls = cluster.KMeans(**kmeans_params)\n",
    "cls.fit(data_X_rfm_scaled)\n",
    "\n",
    "# 2 : on prédit les numéros de cluster sur un date ulterieure (disons 1 mois)\n",
    "\n",
    "data_X_rfm = relative_rfm_date(data_X, pd.to_datetime('2018-08-10'))\n",
    "data_X_rfm_scaled = scaler_rfm.transform(data_X_rfm)\n",
    "\n",
    "label_predict = cls.predict(data_X_rfm_scaled)\n",
    "\n",
    "# 3 : On calcule les vrais labels cette date  :\n",
    "scaler_rfm = StandardScaler()\n",
    "data_X_rfm_scaled = scaler_rfm.fit_transform(data_X_rfm)\n",
    "cls = cluster.KMeans(**kmeans_params)\n",
    "cls.fit(data_X_rfm_scaled)\n",
    "\n",
    "label_true = cls.predict(data_X_rfm_scaled)"
   ]
  },
  {
   "cell_type": "code",
   "execution_count": 15,
   "id": "fe2b1076",
   "metadata": {},
   "outputs": [
    {
     "data": {
      "text/plain": [
       "0.8090270543247126"
      ]
     },
     "execution_count": 15,
     "metadata": {},
     "output_type": "execute_result"
    }
   ],
   "source": [
    "adjusted_rand_score(label_predict,label_true)"
   ]
  },
  {
   "cell_type": "code",
   "execution_count": 16,
   "id": "8d6245ca",
   "metadata": {},
   "outputs": [
    {
     "data": {
      "text/plain": [
       "1    53672\n",
       "0    29704\n",
       "3     2621\n",
       "2     2479\n",
       "dtype: int64"
      ]
     },
     "execution_count": 16,
     "metadata": {},
     "output_type": "execute_result"
    }
   ],
   "source": [
    "pd.DataFrame(label_predict).value_counts()"
   ]
  },
  {
   "cell_type": "code",
   "execution_count": 17,
   "id": "c4721e43",
   "metadata": {},
   "outputs": [
    {
     "data": {
      "text/plain": [
       "1    49034\n",
       "0    34437\n",
       "2     2619\n",
       "3     2386\n",
       "dtype: int64"
      ]
     },
     "execution_count": 17,
     "metadata": {},
     "output_type": "execute_result"
    }
   ],
   "source": [
    "pd.DataFrame(label_true).value_counts()"
   ]
  },
  {
   "cell_type": "markdown",
   "id": "a4278212",
   "metadata": {},
   "source": [
    "**On Affiche les valeurs des variables par clusters**"
   ]
  },
  {
   "cell_type": "code",
   "execution_count": 18,
   "id": "e63a5ef1",
   "metadata": {},
   "outputs": [
    {
     "data": {
      "image/png": "[encoded data removed]",
      "text/plain": [
       "<Figure size 1000x700 with 3 Axes>"
      ]
     },
     "metadata": {},
     "output_type": "display_data"
    },
    {
     "data": {
      "image/png": "[encoded data removed]",
      "text/plain": [
       "<Figure size 1000x700 with 3 Axes>"
      ]
     },
     "metadata": {},
     "output_type": "display_data"
    }
   ],
   "source": [
    "data_X_labaled_true = data_X_rfm.copy()\n",
    "data_X_labaled_true['Cluster'] =  label_true\n",
    "\n",
    "data_X_labaled_predict = data_X_rfm.copy()\n",
    "data_X_labaled_predict['Cluster'] =  label_predict\n",
    "\n",
    "plt.style.use('default')\n",
    "sns.set_theme(style=\"darkgrid\")\n",
    "liste_variables = data_X_labaled_true.columns[:-1].values\n",
    "fig, axs = plt.subplots(nrows=len(liste_variables),  figsize=(10, 7))\n",
    "for i, col_ in enumerate(liste_variables):\n",
    "    sns.boxplot(x='Cluster', y= col_, data=data_X_labaled_true, ax=axs[i],showfliers = False, linewidth=1)\n",
    "    axs[i].set_ylabel(col_ ,rotation=85)\n",
    "    \n",
    "\n",
    "fig.show()\n",
    "\n",
    "fig, axs = plt.subplots(nrows=len(liste_variables),  figsize=(10, 7))\n",
    "for i, col_ in enumerate(liste_variables):\n",
    "    sns.boxplot(x='Cluster', y= col_, data=data_X_labaled_predict, ax=axs[i],showfliers = False, linewidth=1)\n",
    "    axs[i].set_ylabel(col_ ,rotation=85)\n",
    "    \n",
    "\n",
    "fig.show()"
   ]
  },
  {
   "cell_type": "markdown",
   "id": "88560e33",
   "metadata": {},
   "source": [
    "**En conclusion sur ce phénomène :**   \n",
    "Le changement brutal de L'ARI provient du mouvement des clusters qui séparent les clients récents des ancients clients (  N°1 et N°0 ).   \n",
    "Même avec un update à 1 jours nous avons une forte de chute **-0.2 sur L'ARI**.\n",
    "\n",
    "Le problème ne provient donc pas des clients en particulier (ouliers ou autre)\n",
    "(Nous avons fait un test en excluant cette date et le problème est similaire)"
   ]
  },
  {
   "cell_type": "code",
   "execution_count": null,
   "id": "ea7b1d8c",
   "metadata": {},
   "outputs": [],
   "source": [
    "cond1 = data_X['order_purchase_timestamp'] <= pd.to_datetime('2018-08-08')\n",
    "cond2 = data_X['order_purchase_timestamp'] > pd.to_datetime('2018-08-12')\n",
    "data_X_sans_10 = data_X[cond1 + cond2 ]\n",
    "delta_init, conserve_score, conserve_date = delta_simulation(data_X, 0.2, pd.to_datetime('2018-08-06'), 1)"
   ]
  },
  {
   "cell_type": "markdown",
   "id": "b77b3fc5",
   "metadata": {},
   "source": [
    "**Nous allons donc étudier l'ARI sur des dates ultérieures au 2018-08-10**"
   ]
  },
  {
   "cell_type": "markdown",
   "id": "70411f85",
   "metadata": {},
   "source": [
    "De plus nous allons faire la simulation 6 mois avant cette date car nous avons contater que L'ARI augmente au cours du temps et 10 mois semblait imposer un délait de maintenance trop court."
   ]
  },
  {
   "cell_type": "code",
   "execution_count": 449,
   "id": "5f4dee76",
   "metadata": {},
   "outputs": [],
   "source": [
    "data_X_inf_10 = data_X[cond1]"
   ]
  },
  {
   "cell_type": "code",
   "execution_count": 450,
   "id": "7a6efe70",
   "metadata": {},
   "outputs": [
    {
     "name": "stdout",
     "output_type": "stream",
     "text": [
      "pour delta = 120\n",
      " entre la date du 2018-02-08 00:00:00 et du 2018-06-08 00:00:00\n",
      " Nous avons un score ARI de  0.6744561201724025\n",
      "pour delta = 110\n",
      " entre la date du 2018-02-08 00:00:00 et du 2018-05-29 00:00:00\n",
      " Nous avons un score ARI de  0.6974338587021108\n",
      "pour delta = 100\n",
      " entre la date du 2018-02-08 00:00:00 et du 2018-05-19 00:00:00\n",
      " Nous avons un score ARI de  0.7025724523856743\n",
      "pour delta = 90\n",
      " entre la date du 2018-02-08 00:00:00 et du 2018-05-09 00:00:00\n",
      " Nous avons un score ARI de  0.7258875644947116\n",
      "pour delta = 80\n",
      " entre la date du 2018-02-08 00:00:00 et du 2018-04-29 00:00:00\n",
      " Nous avons un score ARI de  0.7482446765756222\n",
      "pour delta = 70\n",
      " entre la date du 2018-02-08 00:00:00 et du 2018-04-19 00:00:00\n",
      " Nous avons un score ARI de  0.7666491728700723\n",
      "pour delta = 70\n",
      " entre la date du 2018-04-19 00:00:00 et du 2018-06-28 00:00:00\n",
      " Nous avons un score ARI de  0.8161974058313238\n",
      "pour delta = 70\n",
      " entre la date du 2018-06-28 00:00:00 et du 2018-09-06 00:00:00\n",
      " Nous avons un score ARI de  0.8848075980308705\n"
     ]
    }
   ],
   "source": [
    "delta_init, conserve_score, conserve_date = delta_simulation(data_X_inf_10, 0.75, pd.to_datetime('2018-02-08'), 120)"
   ]
  },
  {
   "cell_type": "markdown",
   "id": "667eddbf",
   "metadata": {},
   "source": [
    "## Conclusion :"
   ]
  },
  {
   "cell_type": "markdown",
   "id": "76c2e8a4",
   "metadata": {},
   "source": [
    "En conclusion nous dirons que le chagement brutal de clustering d'un jour à l'autre nous à poussé à bien comprendre le phénomène en jeu.\n",
    "Nous proposons finalement un entretient toutes les 10 semaines pour conserver un bon score ARI.   \n",
    "Au fil du temps il est tout à fait possible que nous augmentions le nombre des clusters, en particulier pendant les périodes où L'ARI chutera brutalement. \n",
    "- Par exemple nous aurions proposé au 10 aout 2018 d'ajouter un nouveau cluster, nous serions alors retombés sur le clustering avec K = 5 que nous avions initialement sélectionné. (avec 3 cluster pour la récence)"
   ]
  },
  {
   "cell_type": "code",
   "execution_count": null,
   "id": "46c75464",
   "metadata": {},
   "outputs": [],
   "source": []
  }
 ],
 "metadata": {
  "kernelspec": {
   "display_name": "AtoutFrance",
   "language": "python",
   "name": "atoutfrance"
  },
  "language_info": {
   "codemirror_mode": {
    "name": "ipython",
    "version": 3
   },
   "file_extension": ".py",
   "mimetype": "text/x-python",
   "name": "python",
   "nbconvert_exporter": "python",
   "pygments_lexer": "ipython3",
   "version": "3.9.7"
  }
 },
 "nbformat": 4,
 "nbformat_minor": 5
}
